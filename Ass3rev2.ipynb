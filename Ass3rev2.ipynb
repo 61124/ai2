{
 "cells": [
  {
   "cell_type": "code",
   "execution_count": 1,
   "id": "9f6df0e6-4ebd-461f-acc4-a3ab9e874172",
   "metadata": {},
   "outputs": [],
   "source": [
    "class job:\n",
    "    def __init__(self,job_id,profit,deadline):\n",
    "        self.job_id=job_id\n",
    "        self.profit=profit\n",
    "        self.deadline=deadline\n",
    "        \n",
    "    def __repr__(self):\n",
    "        return f\"job id {self.job_id} time {self.deadline}\""
   ]
  },
  {
   "cell_type": "code",
   "execution_count": 8,
   "id": "554f31db-b6d0-45d4-b4b6-e08b24fc77cb",
   "metadata": {},
   "outputs": [],
   "source": [
    "def jobscheduling(jobs):\n",
    "    print(\"Jobs to be scheduled are\")\n",
    "    for job in jobs:\n",
    "        print(job)\n",
    "    print()\n",
    "    print(\"_\"*40)\n",
    "    print()\n",
    "\n",
    "    jobs.sort(key=lambda job:job.profit,reverse=True)\n",
    "\n",
    "    print(\"Jobs in decsnding order\")\n",
    "    for job in jobs:\n",
    "        print(job)\n",
    "    print()\n",
    "    print(\"_\"*40)\n",
    "    print()\n",
    "\n",
    "    scheduled=[]\n",
    "    max_profit=0\n",
    "    max_deadline=max(job.deadline for job in jobs)\n",
    "    slots=[-1]*(max_deadline+1)\n",
    "\n",
    "    for job in jobs:\n",
    "        for t in range(job.deadline,0,-1):\n",
    "            if slots[t]==-1:\n",
    "                slots[t]=job.job_id\n",
    "                max_profit+=job.profit\n",
    "                scheduled.append((job.job_id,t))\n",
    "                break\n",
    "            else:\n",
    "                print(\"Finding another slot\")\n",
    "    print()\n",
    "    print(\"_\"*40)\n",
    "    print()\n",
    "\n",
    "    for job_id,time in scheduled:\n",
    "        print(f\"job {job_id} scheduled at {time}\")\n",
    "    print(f\"Maximum profit is {max_profit}\")\n",
    "    return scheduled,max_profit"
   ]
  },
  {
   "cell_type": "code",
   "execution_count": 10,
   "id": "ab53456f-b78c-403b-bb45-aba6c8f382cd",
   "metadata": {},
   "outputs": [
    {
     "name": "stdout",
     "output_type": "stream",
     "text": [
      "Enter the number of jobs 3\n",
      "Enter job id a\n",
      "Enter the job profit 4\n",
      "Enter the job deadline 3\n",
      "Enter job id b\n",
      "Enter the job profit 5\n",
      "Enter the job deadline 2\n",
      "Enter job id c\n",
      "Enter the job profit 6\n",
      "Enter the job deadline 4\n"
     ]
    },
    {
     "name": "stdout",
     "output_type": "stream",
     "text": [
      "Jobs to be scheduled are\n",
      "job id a time 3\n",
      "job id b time 2\n",
      "job id c time 4\n",
      "\n",
      "________________________________________\n",
      "\n",
      "Jobs in decsnding order\n",
      "job id c time 4\n",
      "job id b time 2\n",
      "job id a time 3\n",
      "\n",
      "________________________________________\n",
      "\n",
      "\n",
      "________________________________________\n",
      "\n",
      "job c scheduled at 4\n",
      "job b scheduled at 2\n",
      "job a scheduled at 3\n",
      "Maximum profit is 15\n"
     ]
    }
   ],
   "source": [
    "if __name__=='__main__':\n",
    "    jobs=[]\n",
    "    n=int(input(\"Enter the number of jobs\"))\n",
    "    for i  in range (n):\n",
    "        job_id=input(\"Enter job id\")\n",
    "        profit=int(input(\"Enter the job profit\"))\n",
    "        deadline=int(input(\"Enter the job deadline\"))\n",
    "        jobs.append(job(job_id,profit,deadline))\n",
    "    scheduled,maxi=jobscheduling(jobs)"
   ]
  },
  {
   "cell_type": "code",
   "execution_count": null,
   "id": "cd9480a6-8927-4e5e-90f5-1370e32ae7a9",
   "metadata": {},
   "outputs": [],
   "source": []
  }
 ],
 "metadata": {
  "kernelspec": {
   "display_name": "Python 3 (ipykernel)",
   "language": "python",
   "name": "python3"
  },
  "language_info": {
   "codemirror_mode": {
    "name": "ipython",
    "version": 3
   },
   "file_extension": ".py",
   "mimetype": "text/x-python",
   "name": "python",
   "nbconvert_exporter": "python",
   "pygments_lexer": "ipython3",
   "version": "3.13.3"
  }
 },
 "nbformat": 4,
 "nbformat_minor": 5
}
