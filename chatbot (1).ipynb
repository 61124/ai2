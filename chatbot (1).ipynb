{
 "cells": [
  {
   "cell_type": "code",
   "execution_count": null,
   "id": "768423b5-c3d5-4d94-b6e6-2abf9e8fedf8",
   "metadata": {},
   "outputs": [
    {
     "name": "stdout",
     "output_type": "stream",
     "text": [
      "Welcome to Chatbot!\n",
      "Type 'bye' or 'quit' to exit.\n"
     ]
    },
    {
     "name": "stdin",
     "output_type": "stream",
     "text": [
      "You:  Hi\n"
     ]
    },
    {
     "name": "stdout",
     "output_type": "stream",
     "text": [
      "Chatbot: Hi! Nice to see you!\n"
     ]
    },
    {
     "name": "stdin",
     "output_type": "stream",
     "text": [
      "You:  how are you\n"
     ]
    },
    {
     "name": "stdout",
     "output_type": "stream",
     "text": [
      "Chatbot: I'm doing good. How about you?\n"
     ]
    },
    {
     "name": "stdin",
     "output_type": "stream",
     "text": [
      "You:  what is your name\n"
     ]
    },
    {
     "name": "stdout",
     "output_type": "stream",
     "text": [
      "Chatbot: I am a bot created by Heisenberg. You can call me Crazy!\n"
     ]
    },
    {
     "name": "stdin",
     "output_type": "stream",
     "text": [
      "You:  sorryu\n"
     ]
    },
    {
     "name": "stdout",
     "output_type": "stream",
     "text": [
      "Chatbot: I'm not sure how to respond to that.\n"
     ]
    },
    {
     "name": "stdin",
     "output_type": "stream",
     "text": [
      "You:  sorry\n"
     ]
    },
    {
     "name": "stdout",
     "output_type": "stream",
     "text": [
      "Chatbot: I'm not sure how to respond to that.\n"
     ]
    },
    {
     "name": "stdin",
     "output_type": "stream",
     "text": [
      "You:  sorry man\n"
     ]
    },
    {
     "name": "stdout",
     "output_type": "stream",
     "text": [
      "Chatbot: It's alright.\n"
     ]
    },
    {
     "name": "stdin",
     "output_type": "stream",
     "text": [
      "You:  order status\n"
     ]
    },
    {
     "name": "stdout",
     "output_type": "stream",
     "text": [
      "Chatbot: I'd be happy to help! May I have your order number?\n"
     ]
    },
    {
     "name": "stdin",
     "output_type": "stream",
     "text": [
      "You:  122\n"
     ]
    },
    {
     "name": "stdout",
     "output_type": "stream",
     "text": [
      "Chatbot: Your order is delayed due to weather conditions.\n"
     ]
    },
    {
     "name": "stdin",
     "output_type": "stream",
     "text": [
      "You:  product inquiry\n"
     ]
    },
    {
     "name": "stdout",
     "output_type": "stream",
     "text": [
      "Chatbot: Please enter the product ID you're interested in.\n"
     ]
    },
    {
     "name": "stdin",
     "output_type": "stream",
     "text": [
      "You:  a33\n"
     ]
    },
    {
     "name": "stdout",
     "output_type": "stream",
     "text": [
      "Chatbot: Product is in stock and available for purchase.\n"
     ]
    },
    {
     "name": "stdin",
     "output_type": "stream",
     "text": [
      "You:  is it raining in pune\n"
     ]
    },
    {
     "name": "stdout",
     "output_type": "stream",
     "text": [
      "Chatbot: No rain since last week in pune.\n"
     ]
    },
    {
     "name": "stdin",
     "output_type": "stream",
     "text": [
      "You:  how is the weather in punjab\n"
     ]
    },
    {
     "name": "stdout",
     "output_type": "stream",
     "text": [
      "Chatbot: I'm not sure how to respond to that.\n"
     ]
    },
    {
     "name": "stdin",
     "output_type": "stream",
     "text": [
      "You:  how is today's weather\n"
     ]
    },
    {
     "name": "stdout",
     "output_type": "stream",
     "text": [
      "Chatbot: Please enter the city you live in to know about the weather\n"
     ]
    },
    {
     "name": "stdin",
     "output_type": "stream",
     "text": [
      "You:  kolkata\n"
     ]
    },
    {
     "name": "stdout",
     "output_type": "stream",
     "text": [
      "Chatbot: City info not available\n"
     ]
    },
    {
     "name": "stdin",
     "output_type": "stream",
     "text": [
      "You:   how is today's weather\n"
     ]
    },
    {
     "name": "stdout",
     "output_type": "stream",
     "text": [
      "Chatbot: Please enter the city you live in to know about the weather\n"
     ]
    },
    {
     "name": "stdin",
     "output_type": "stream",
     "text": [
      "You:  pune\n"
     ]
    },
    {
     "name": "stdout",
     "output_type": "stream",
     "text": [
      "Chatbot: Dry and sunny\n"
     ]
    },
    {
     "name": "stdin",
     "output_type": "stream",
     "text": [
      "You:  product inquiry\n"
     ]
    },
    {
     "name": "stdout",
     "output_type": "stream",
     "text": [
      "Chatbot: Please enter the product ID you're interested in.\n"
     ]
    },
    {
     "name": "stdin",
     "output_type": "stream",
     "text": [
      "You:  222\n"
     ]
    },
    {
     "name": "stdout",
     "output_type": "stream",
     "text": [
      "Chatbot: This product will be restocked soon.\n"
     ]
    },
    {
     "name": "stdin",
     "output_type": "stream",
     "text": [
      "You:  where were you created\n"
     ]
    },
    {
     "name": "stdout",
     "output_type": "stream",
     "text": [
      "Chatbot: Top secret ;)\n"
     ]
    },
    {
     "name": "stdin",
     "output_type": "stream",
     "text": [
      "You:  tell me\n"
     ]
    },
    {
     "name": "stdout",
     "output_type": "stream",
     "text": [
      "Chatbot: I'm not sure how to respond to that.\n"
     ]
    }
   ],
   "source": [
    "import nltk\n",
    "from nltk.chat.util import Chat, reflections\n",
    "import random\n",
    "import datetime\n",
    "\n",
    "# NLTK pattern-response pairs\n",
    "pairs = [\n",
    "    [r\"my name is (.*)\", [\"Hello %1, How are you?\"]],\n",
    "    [r\"Hi|Hello|Hey there|Hola\", [\"Hello! My name is Heisenberg.\"]],\n",
    "    [r\"what is your name ?\", [\"I am a bot created by Heisenberg. You can call me Crazy!\"]],\n",
    "    [r\"how are you ?\", [\"I'm doing good. How about you?\"]],\n",
    "    [r\"sorry (.*)\", [\"It's alright.\", \"It's OK, never mind.\"]],\n",
    "    [r\"I am fine\", [\"Great to hear that! How can I help you?\"]],\n",
    "    [r\"I (.*) good\", [\"Nice to hear that!\", \"How can I help you? :)\"]],\n",
    "    [r\"(.*) age?\", [\"I'm a computer program, dude. Seriously, you're asking me this?\"]],\n",
    "    [r\"what (.*) want ?\", [\"Make me an offer I can't refuse.\"]],\n",
    "    [r\"(.*) created ?\", [\"PVG TE Computer students created me using Python's NLTK library.\", \"Top secret ;)\"]],\n",
    "    [r\"(.*) (location|city) ?\", [\"Indore, Madhya Pradesh\"]],\n",
    "    [r\"(.*) raining in (.*)\", [\"No rain since last week in %2.\", \"Damn, it's raining too much in %2!\"]],\n",
    "    [r\"how (.*) health(.*)\", [\"I'm a computer program, so I'm always healthy!\"]],\n",
    "    [r\"(.*) (sports|game) ?\", [\"I'm a big fan of football.\"]],\n",
    "    [r\"who (.*) sportsperson ?\", [\"Messi\", \"Ronaldo\", \"Rooney\"]],\n",
    "    [r\"who (.*) (moviestar|actor)?\", [\"Brad Pitt\"]],\n",
    "    [r\"i am looking for online guides and courses to learn data science, can you suggest?\", \n",
    "     [\"Crazy_Tech has many great articles with step-by-step explanations along with code. You can explore them!\"]],\n",
    "    [r\"quit\", [\"Thank you for using our intelligence services!\"]],\n",
    "]\n",
    "\n",
    "# Custom chatbot logic\n",
    "def advanced_chatbot(user_input, context):\n",
    "    time_now = datetime.datetime.now().strftime(\"%I:%M %p on %B %d, %Y\")\n",
    "    responses = {\n",
    "        \"hello\": \"Hello! How can I help you?\",\n",
    "        \"hi\": \"Hi! Nice to see you!\",\n",
    "        \"what time is it\": time_now,\n",
    "        \"help\": \"Sure! How can I help you?\",\n",
    "        \"order status\": \"I'd be happy to help! May I have your order number?\",\n",
    "        \"product inquiry\": \"Please enter the product ID you're interested in.\",\n",
    "        \"how is today's weather\": \"Please enter the city you live in to know about the weather\"\n",
    "    }\n",
    "\n",
    "    order_status = [\n",
    "        \"Your order is being packed.\",\n",
    "        \"Your order is on the way.\",\n",
    "        \"Your order has been delivered.\",\n",
    "        \"Your order is delayed due to weather conditions.\",\n",
    "        \"Your order is out for delivery today.\"\n",
    "    ]\n",
    "\n",
    "    product_status = [\n",
    "        \"Product is in stock and available for purchase.\",\n",
    "        \"This product is currently out of stock.\",\n",
    "        \"This product will be restocked soon.\",\n",
    "        \"Product is available with a 10% discount today!\"\n",
    "    ]\n",
    "\n",
    "    weather = {\n",
    "        \"mumbai\": \"Hot and humid\",\n",
    "        \"pune\": \"Dry and sunny\",\n",
    "        \"delhi\": \"Smoky and dusty\"\n",
    "    }\n",
    "\n",
    "    user_input = user_input.strip().lower()\n",
    "\n",
    "    if context == \"awaiting order\":\n",
    "        return random.choice(order_status), None\n",
    "    elif context == \"awaiting product\":\n",
    "        return random.choice(product_status), None\n",
    "    elif context == \"awaiting city\":\n",
    "        return weather.get(user_input, \"City info not available\"), None\n",
    "\n",
    "    for key in responses:\n",
    "        if key in user_input:\n",
    "            if key == \"order status\":\n",
    "                return responses[key], \"awaiting order\"\n",
    "            elif key == \"product inquiry\":\n",
    "                return responses[key], \"awaiting product\"\n",
    "            elif key == \"how is today's weather\":\n",
    "                return responses[key], \"awaiting city\"\n",
    "            else:\n",
    "                return responses[key], None\n",
    "\n",
    "    return None, None  # Let NLTK handle it\n",
    "\n",
    "# Combined chatbot\n",
    "def chat():\n",
    "    print(\"Welcome to Chatbot!\")\n",
    "    print(\"Type 'bye' or 'quit' to exit.\")\n",
    "    context = None\n",
    "    chat_engine = Chat(pairs, reflections)\n",
    "\n",
    "    while True:\n",
    "        user_input = input(\"You: \").strip()\n",
    "        if user_input.lower() in [\"bye\", \"quit\"]:\n",
    "            print(\"Chatbot: Thank you! Have a great day!\")\n",
    "            break\n",
    "\n",
    "        response, context = advanced_chatbot(user_input, context)\n",
    "        if response:\n",
    "            print(\"Chatbot:\", response)\n",
    "        else:\n",
    "            nltk_response = chat_engine.respond(user_input)\n",
    "            if nltk_response:\n",
    "                print(\"Chatbot:\", nltk_response)\n",
    "            else:\n",
    "                print(\"Chatbot: I'm not sure how to respond to that.\")\n",
    "\n",
    "if __name__ == \"__main__\":\n",
    "    chat()\n"
   ]
  },
  {
   "cell_type": "code",
   "execution_count": null,
   "id": "e8691184-e959-4593-a80b-bde40c383d6d",
   "metadata": {},
   "outputs": [],
   "source": []
  }
 ],
 "metadata": {
  "kernelspec": {
   "display_name": "Python 3 (ipykernel)",
   "language": "python",
   "name": "python3"
  },
  "language_info": {
   "codemirror_mode": {
    "name": "ipython",
    "version": 3
   },
   "file_extension": ".py",
   "mimetype": "text/x-python",
   "name": "python",
   "nbconvert_exporter": "python",
   "pygments_lexer": "ipython3",
   "version": "3.12.7"
  }
 },
 "nbformat": 4,
 "nbformat_minor": 5
}
